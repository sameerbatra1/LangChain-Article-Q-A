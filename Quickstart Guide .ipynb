{
 "cells": [
  {
   "cell_type": "code",
   "execution_count": 3,
   "id": "aa28e289-6183-4947-850a-4a26d73715a4",
   "metadata": {},
   "outputs": [
    {
     "name": "stderr",
     "output_type": "stream",
     "text": [
      "'ollama' is not recognized as an internal or external command,\n",
      "operable program or batch file.\n"
     ]
    }
   ],
   "source": [
    "# ! ollama pull llama2"
   ]
  },
  {
   "cell_type": "code",
   "execution_count": 4,
   "id": "d4888ad2-838e-4a1b-b839-43d1c4eb21e9",
   "metadata": {},
   "outputs": [],
   "source": [
    "from langchain_community.llms import Ollama\n",
    "llm = Ollama(model=\"llama2\")"
   ]
  },
  {
   "cell_type": "code",
   "execution_count": 5,
   "id": "29e75dac-99bb-4889-8790-3838d5ebc754",
   "metadata": {},
   "outputs": [
    {
     "data": {
      "text/plain": [
       "'\\nLangsmith is a programming language designed specifically for writing tests, and it can be very helpful in the testing process for several reasons:\\n\\n1. Automated Testing: Langsmith allows you to write automated tests that can run unattended, freeing up your time to focus on other tasks. You can use Langsmith to test your codebase thoroughly and efficiently, without worrying about manual errors or oversights.\\n2. Consistency: Langsmith helps ensure consistency in your testing process by providing a standardized way of writing tests. This consistency makes it easier to maintain and update your tests over time.\\n3. Readability: Langsmith code is designed to be highly readable, making it easier for developers and non-technical team members to understand the tests and their expected outcomes.\\n4. Flexibility: Langsmith allows you to write a wide range of tests, including unit tests, integration tests, acceptance tests, and more. You can also use Langsmith to test different types of software, such as web applications, mobile apps, and desktop applications.\\n5. Ease of Use: Langsmith has a simple and intuitive syntax that makes it easy to learn and use, even for developers who are new to testing. This means you can start writing tests with Langsmith quickly and effectively.\\n6. Testing Best Practices: Langsmith is designed to follow best practices in testing, such as the \"Arrange, Act, Assert\" pattern and the use of descriptive test names. This helps ensure that your tests are clear, concise, and easy to understand.\\n7. Integration with Other Tools: Langsmith can be integrated with other testing tools and platforms, such as Selenium and Jenkins. This allows you to easily incorporate Langsmith tests into your existing testing workflow.\\n8. Extensibility: Langsmith is highly extensible, allowing you to add new test functions and features as needed. This means you can adapt Langsmith to your specific testing needs over time.\\n9. Error Handling: Langsmith provides built-in error handling capabilities, so you don\\'t have to write custom error handling logic for each test. This makes it easier to write and maintain tests over time.\\n10. Community Support: The Langsmith community is active and supportive, with many contributors and users willing to help answer questions and provide feedback. This means you can get help and support when you need it, and also contribute to the language\\'s growth and development.'"
      ]
     },
     "execution_count": 5,
     "metadata": {},
     "output_type": "execute_result"
    }
   ],
   "source": [
    "llm.invoke(\"how can langsmith help with testing?\")"
   ]
  },
  {
   "cell_type": "code",
   "execution_count": 6,
   "id": "ad386e73-e2e9-46b3-82c7-464b7979c096",
   "metadata": {},
   "outputs": [],
   "source": [
    "# text = \"What are most followed real heros in the world\"\n",
    "# print(llms(text))"
   ]
  },
  {
   "cell_type": "code",
   "execution_count": null,
   "id": "d609e152-206b-4698-a723-9b3099f0fd29",
   "metadata": {},
   "outputs": [],
   "source": []
  }
 ],
 "metadata": {
  "kernelspec": {
   "display_name": "Python 3 (ipykernel)",
   "language": "python",
   "name": "python3"
  },
  "language_info": {
   "codemirror_mode": {
    "name": "ipython",
    "version": 3
   },
   "file_extension": ".py",
   "mimetype": "text/x-python",
   "name": "python",
   "nbconvert_exporter": "python",
   "pygments_lexer": "ipython3",
   "version": "3.11.5"
  }
 },
 "nbformat": 4,
 "nbformat_minor": 5
}
